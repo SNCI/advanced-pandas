{
 "cells": [
  {
   "cell_type": "markdown",
   "metadata": {},
   "source": [
    "# Testing for data analysis"
   ]
  },
  {
   "cell_type": "markdown",
   "metadata": {},
   "source": [
    "In a data analysis context, we want to test our code, as usual, but also our data (i.e., expected schema; e.g., data types) and our statistics (i.e., expected properties of distributions; e.g., value ranges). We focus on a defensive programming approach, by running expectation checks."
   ]
  },
  {
   "cell_type": "code",
   "execution_count": 1,
   "metadata": {
    "collapsed": true
   },
   "outputs": [],
   "source": [
    "import pandas as pd"
   ]
  },
  {
   "cell_type": "code",
   "execution_count": 2,
   "metadata": {
    "collapsed": true
   },
   "outputs": [],
   "source": [
    "df = pd.read_csv('../data/tidy_who.csv')"
   ]
  },
  {
   "cell_type": "code",
   "execution_count": 3,
   "metadata": {},
   "outputs": [
    {
     "data": {
      "text/html": [
       "<div>\n",
       "<style>\n",
       "    .dataframe thead tr:only-child th {\n",
       "        text-align: right;\n",
       "    }\n",
       "\n",
       "    .dataframe thead th {\n",
       "        text-align: left;\n",
       "    }\n",
       "\n",
       "    .dataframe tbody tr th {\n",
       "        vertical-align: top;\n",
       "    }\n",
       "</style>\n",
       "<table border=\"1\" class=\"dataframe\">\n",
       "  <thead>\n",
       "    <tr style=\"text-align: right;\">\n",
       "      <th></th>\n",
       "      <th>country</th>\n",
       "      <th>g_whoregion</th>\n",
       "      <th>year</th>\n",
       "      <th>cases</th>\n",
       "      <th>type</th>\n",
       "      <th>sex</th>\n",
       "      <th>age_range</th>\n",
       "    </tr>\n",
       "  </thead>\n",
       "  <tbody>\n",
       "    <tr>\n",
       "      <th>99556</th>\n",
       "      <td>Viet Nam</td>\n",
       "      <td>WPR</td>\n",
       "      <td>1990</td>\n",
       "      <td>NaN</td>\n",
       "      <td>sp</td>\n",
       "      <td>f</td>\n",
       "      <td>5564</td>\n",
       "    </tr>\n",
       "    <tr>\n",
       "      <th>133367</th>\n",
       "      <td>Guatemala</td>\n",
       "      <td>AMR</td>\n",
       "      <td>1997</td>\n",
       "      <td>NaN</td>\n",
       "      <td>sn</td>\n",
       "      <td>m</td>\n",
       "      <td>3544</td>\n",
       "    </tr>\n",
       "    <tr>\n",
       "      <th>64284</th>\n",
       "      <td>Guatemala</td>\n",
       "      <td>AMR</td>\n",
       "      <td>1980</td>\n",
       "      <td>NaN</td>\n",
       "      <td>sp</td>\n",
       "      <td>f</td>\n",
       "      <td>1524</td>\n",
       "    </tr>\n",
       "    <tr>\n",
       "      <th>372475</th>\n",
       "      <td>Maldives</td>\n",
       "      <td>SEA</td>\n",
       "      <td>1987</td>\n",
       "      <td>NaN</td>\n",
       "      <td>rel</td>\n",
       "      <td>m</td>\n",
       "      <td>65</td>\n",
       "    </tr>\n",
       "    <tr>\n",
       "      <th>392146</th>\n",
       "      <td>Benin</td>\n",
       "      <td>AFR</td>\n",
       "      <td>1996</td>\n",
       "      <td>NaN</td>\n",
       "      <td>rel</td>\n",
       "      <td>f</td>\n",
       "      <td>2534</td>\n",
       "    </tr>\n",
       "  </tbody>\n",
       "</table>\n",
       "</div>"
      ],
      "text/plain": [
       "          country g_whoregion  year  cases type sex  age_range\n",
       "99556    Viet Nam         WPR  1990    NaN   sp   f       5564\n",
       "133367  Guatemala         AMR  1997    NaN   sn   m       3544\n",
       "64284   Guatemala         AMR  1980    NaN   sp   f       1524\n",
       "372475   Maldives         SEA  1987    NaN  rel   m         65\n",
       "392146      Benin         AFR  1996    NaN  rel   f       2534"
      ]
     },
     "execution_count": 3,
     "metadata": {},
     "output_type": "execute_result"
    }
   ],
   "source": [
    "df.sample(5)"
   ]
  },
  {
   "cell_type": "markdown",
   "metadata": {},
   "source": [
    "## Testing code"
   ]
  },
  {
   "cell_type": "markdown",
   "metadata": {},
   "source": [
    "As far as code is concerned (when we implement operations to transform data), please refer to the lesson on testing, debugging, and profiling.\n",
    "\n",
    "In the first notebook, we came across `pd.testing.assert_frame_equal()`; be aware that `pd.testing.assert_series_equal()` and `pd.testing.assert_index_equal()` are also available."
   ]
  },
  {
   "cell_type": "code",
   "execution_count": 4,
   "metadata": {},
   "outputs": [],
   "source": [
    "pd.testing.assert_index_equal(df.index, df.index)"
   ]
  },
  {
   "cell_type": "markdown",
   "metadata": {},
   "source": [
    "## Testing data"
   ]
  },
  {
   "cell_type": "code",
   "execution_count": 5,
   "metadata": {},
   "outputs": [
    {
     "data": {
      "text/plain": [
       "dtype('int64')"
      ]
     },
     "execution_count": 5,
     "metadata": {},
     "output_type": "execute_result"
    }
   ],
   "source": [
    "df['year'].dtype"
   ]
  },
  {
   "cell_type": "code",
   "execution_count": 6,
   "metadata": {
    "collapsed": true
   },
   "outputs": [],
   "source": [
    "assert df['year'].dtype == 'int'"
   ]
  },
  {
   "cell_type": "code",
   "execution_count": 7,
   "metadata": {},
   "outputs": [
    {
     "data": {
      "text/plain": [
       "dtype('O')"
      ]
     },
     "execution_count": 7,
     "metadata": {},
     "output_type": "execute_result"
    }
   ],
   "source": [
    "df['sex'].dtype"
   ]
  },
  {
   "cell_type": "code",
   "execution_count": 8,
   "metadata": {},
   "outputs": [],
   "source": [
    "assert df['sex'].dtype == 'object'"
   ]
  },
  {
   "cell_type": "markdown",
   "metadata": {},
   "source": [
    "## Testing statistics"
   ]
  },
  {
   "cell_type": "code",
   "execution_count": 9,
   "metadata": {},
   "outputs": [],
   "source": [
    "assert df['year'].max() <= 2017"
   ]
  },
  {
   "cell_type": "code",
   "execution_count": 10,
   "metadata": {},
   "outputs": [],
   "source": [
    "assert df['cases'].min() == 0"
   ]
  },
  {
   "cell_type": "markdown",
   "metadata": {},
   "source": [
    "When datasets are large, it might be difficult to carry out exact tests (for example, using `pd.testing.assert_series_equal()`). It might then be reasonable to test for properties of a series, rather than element-wise equality."
   ]
  },
  {
   "cell_type": "code",
   "execution_count": 11,
   "metadata": {},
   "outputs": [
    {
     "data": {
      "text/plain": [
       "count     81381.000000\n",
       "mean        667.482496\n",
       "std        4490.566875\n",
       "min           0.000000\n",
       "25%           3.000000\n",
       "50%          28.000000\n",
       "75%         200.000000\n",
       "max      250051.000000\n",
       "Name: cases, dtype: float64"
      ]
     },
     "execution_count": 11,
     "metadata": {},
     "output_type": "execute_result"
    }
   ],
   "source": [
    "df['cases'].describe()"
   ]
  },
  {
   "cell_type": "markdown",
   "metadata": {},
   "source": [
    "Make use of visual checks too: For example, it is generally a lot more straightforward to spot outliers if you plot your data!"
   ]
  },
  {
   "cell_type": "code",
   "execution_count": 12,
   "metadata": {},
   "outputs": [],
   "source": [
    "assert df['sex'].nunique() > 1"
   ]
  },
  {
   "cell_type": "markdown",
   "metadata": {},
   "source": [
    "## Handling missing data"
   ]
  },
  {
   "cell_type": "markdown",
   "metadata": {},
   "source": [
    "Some data are missing, either because they exist but were not collected or because they never existed. How can we detect missing data (null values)?"
   ]
  },
  {
   "cell_type": "code",
   "execution_count": 13,
   "metadata": {},
   "outputs": [
    {
     "data": {
      "text/html": [
       "<div>\n",
       "<style>\n",
       "    .dataframe thead tr:only-child th {\n",
       "        text-align: right;\n",
       "    }\n",
       "\n",
       "    .dataframe thead th {\n",
       "        text-align: left;\n",
       "    }\n",
       "\n",
       "    .dataframe tbody tr th {\n",
       "        vertical-align: top;\n",
       "    }\n",
       "</style>\n",
       "<table border=\"1\" class=\"dataframe\">\n",
       "  <thead>\n",
       "    <tr style=\"text-align: right;\">\n",
       "      <th></th>\n",
       "      <th>country</th>\n",
       "      <th>g_whoregion</th>\n",
       "      <th>year</th>\n",
       "      <th>cases</th>\n",
       "      <th>type</th>\n",
       "      <th>sex</th>\n",
       "      <th>age_range</th>\n",
       "    </tr>\n",
       "  </thead>\n",
       "  <tbody>\n",
       "    <tr>\n",
       "      <th>48827</th>\n",
       "      <td>Greece</td>\n",
       "      <td>EUR</td>\n",
       "      <td>2015</td>\n",
       "      <td>NaN</td>\n",
       "      <td>sp</td>\n",
       "      <td>m</td>\n",
       "      <td>65</td>\n",
       "    </tr>\n",
       "    <tr>\n",
       "      <th>102545</th>\n",
       "      <td>Greece</td>\n",
       "      <td>EUR</td>\n",
       "      <td>2015</td>\n",
       "      <td>NaN</td>\n",
       "      <td>sp</td>\n",
       "      <td>f</td>\n",
       "      <td>65</td>\n",
       "    </tr>\n",
       "    <tr>\n",
       "      <th>156263</th>\n",
       "      <td>Greece</td>\n",
       "      <td>EUR</td>\n",
       "      <td>2015</td>\n",
       "      <td>NaN</td>\n",
       "      <td>sn</td>\n",
       "      <td>m</td>\n",
       "      <td>65</td>\n",
       "    </tr>\n",
       "    <tr>\n",
       "      <th>209981</th>\n",
       "      <td>Greece</td>\n",
       "      <td>EUR</td>\n",
       "      <td>2015</td>\n",
       "      <td>NaN</td>\n",
       "      <td>sn</td>\n",
       "      <td>f</td>\n",
       "      <td>65</td>\n",
       "    </tr>\n",
       "    <tr>\n",
       "      <th>263699</th>\n",
       "      <td>Greece</td>\n",
       "      <td>EUR</td>\n",
       "      <td>2015</td>\n",
       "      <td>NaN</td>\n",
       "      <td>ep</td>\n",
       "      <td>m</td>\n",
       "      <td>65</td>\n",
       "    </tr>\n",
       "    <tr>\n",
       "      <th>317417</th>\n",
       "      <td>Greece</td>\n",
       "      <td>EUR</td>\n",
       "      <td>2015</td>\n",
       "      <td>NaN</td>\n",
       "      <td>ep</td>\n",
       "      <td>f</td>\n",
       "      <td>65</td>\n",
       "    </tr>\n",
       "    <tr>\n",
       "      <th>371135</th>\n",
       "      <td>Greece</td>\n",
       "      <td>EUR</td>\n",
       "      <td>2015</td>\n",
       "      <td>86.0</td>\n",
       "      <td>rel</td>\n",
       "      <td>m</td>\n",
       "      <td>65</td>\n",
       "    </tr>\n",
       "    <tr>\n",
       "      <th>424853</th>\n",
       "      <td>Greece</td>\n",
       "      <td>EUR</td>\n",
       "      <td>2015</td>\n",
       "      <td>42.0</td>\n",
       "      <td>rel</td>\n",
       "      <td>f</td>\n",
       "      <td>65</td>\n",
       "    </tr>\n",
       "  </tbody>\n",
       "</table>\n",
       "</div>"
      ],
      "text/plain": [
       "       country g_whoregion  year  cases type sex  age_range\n",
       "48827   Greece         EUR  2015    NaN   sp   m         65\n",
       "102545  Greece         EUR  2015    NaN   sp   f         65\n",
       "156263  Greece         EUR  2015    NaN   sn   m         65\n",
       "209981  Greece         EUR  2015    NaN   sn   f         65\n",
       "263699  Greece         EUR  2015    NaN   ep   m         65\n",
       "317417  Greece         EUR  2015    NaN   ep   f         65\n",
       "371135  Greece         EUR  2015   86.0  rel   m         65\n",
       "424853  Greece         EUR  2015   42.0  rel   f         65"
      ]
     },
     "execution_count": 13,
     "metadata": {},
     "output_type": "execute_result"
    }
   ],
   "source": [
    "df_sub = df[(df.country == 'Greece') & (df.year > 2014) & (df.age_range == 65)]\n",
    "df_sub"
   ]
  },
  {
   "cell_type": "code",
   "execution_count": 14,
   "metadata": {},
   "outputs": [
    {
     "data": {
      "text/plain": [
       "48827      True\n",
       "102545     True\n",
       "156263     True\n",
       "209981     True\n",
       "263699     True\n",
       "317417     True\n",
       "371135    False\n",
       "424853    False\n",
       "Name: cases, dtype: bool"
      ]
     },
     "execution_count": 14,
     "metadata": {},
     "output_type": "execute_result"
    }
   ],
   "source": [
    "df_sub['cases'].isnull()"
   ]
  },
  {
   "cell_type": "code",
   "execution_count": 15,
   "metadata": {},
   "outputs": [
    {
     "data": {
      "text/plain": [
       "48827     False\n",
       "102545    False\n",
       "156263    False\n",
       "209981    False\n",
       "263699    False\n",
       "317417    False\n",
       "371135     True\n",
       "424853     True\n",
       "Name: cases, dtype: bool"
      ]
     },
     "execution_count": 15,
     "metadata": {},
     "output_type": "execute_result"
    }
   ],
   "source": [
    "df_sub['cases'].notnull()"
   ]
  },
  {
   "cell_type": "code",
   "execution_count": 16,
   "metadata": {},
   "outputs": [
    {
     "data": {
      "text/plain": [
       "True     6\n",
       "False    2\n",
       "Name: cases, dtype: int64"
      ]
     },
     "execution_count": 16,
     "metadata": {},
     "output_type": "execute_result"
    }
   ],
   "source": [
    "df_sub['cases'].isnull().value_counts()"
   ]
  },
  {
   "cell_type": "markdown",
   "metadata": {},
   "source": [
    "When summing data, null (missing) values are treated as zero."
   ]
  },
  {
   "cell_type": "code",
   "execution_count": 17,
   "metadata": {},
   "outputs": [
    {
     "data": {
      "text/plain": [
       "128.0"
      ]
     },
     "execution_count": 17,
     "metadata": {},
     "output_type": "execute_result"
    }
   ],
   "source": [
    "df_sub['cases'].sum()"
   ]
  },
  {
   "cell_type": "code",
   "execution_count": 18,
   "metadata": {},
   "outputs": [
    {
     "data": {
      "text/html": [
       "<div>\n",
       "<style>\n",
       "    .dataframe thead tr:only-child th {\n",
       "        text-align: right;\n",
       "    }\n",
       "\n",
       "    .dataframe thead th {\n",
       "        text-align: left;\n",
       "    }\n",
       "\n",
       "    .dataframe tbody tr th {\n",
       "        vertical-align: top;\n",
       "    }\n",
       "</style>\n",
       "<table border=\"1\" class=\"dataframe\">\n",
       "  <thead>\n",
       "    <tr style=\"text-align: right;\">\n",
       "      <th></th>\n",
       "      <th>country</th>\n",
       "      <th>g_whoregion</th>\n",
       "      <th>year</th>\n",
       "      <th>cases</th>\n",
       "      <th>type</th>\n",
       "      <th>sex</th>\n",
       "      <th>age_range</th>\n",
       "    </tr>\n",
       "  </thead>\n",
       "  <tbody>\n",
       "    <tr>\n",
       "      <th>48827</th>\n",
       "      <td>Greece</td>\n",
       "      <td>EUR</td>\n",
       "      <td>2015</td>\n",
       "      <td>NA</td>\n",
       "      <td>sp</td>\n",
       "      <td>m</td>\n",
       "      <td>65</td>\n",
       "    </tr>\n",
       "    <tr>\n",
       "      <th>102545</th>\n",
       "      <td>Greece</td>\n",
       "      <td>EUR</td>\n",
       "      <td>2015</td>\n",
       "      <td>NA</td>\n",
       "      <td>sp</td>\n",
       "      <td>f</td>\n",
       "      <td>65</td>\n",
       "    </tr>\n",
       "    <tr>\n",
       "      <th>156263</th>\n",
       "      <td>Greece</td>\n",
       "      <td>EUR</td>\n",
       "      <td>2015</td>\n",
       "      <td>NA</td>\n",
       "      <td>sn</td>\n",
       "      <td>m</td>\n",
       "      <td>65</td>\n",
       "    </tr>\n",
       "    <tr>\n",
       "      <th>209981</th>\n",
       "      <td>Greece</td>\n",
       "      <td>EUR</td>\n",
       "      <td>2015</td>\n",
       "      <td>NA</td>\n",
       "      <td>sn</td>\n",
       "      <td>f</td>\n",
       "      <td>65</td>\n",
       "    </tr>\n",
       "    <tr>\n",
       "      <th>263699</th>\n",
       "      <td>Greece</td>\n",
       "      <td>EUR</td>\n",
       "      <td>2015</td>\n",
       "      <td>NA</td>\n",
       "      <td>ep</td>\n",
       "      <td>m</td>\n",
       "      <td>65</td>\n",
       "    </tr>\n",
       "    <tr>\n",
       "      <th>317417</th>\n",
       "      <td>Greece</td>\n",
       "      <td>EUR</td>\n",
       "      <td>2015</td>\n",
       "      <td>NA</td>\n",
       "      <td>ep</td>\n",
       "      <td>f</td>\n",
       "      <td>65</td>\n",
       "    </tr>\n",
       "    <tr>\n",
       "      <th>371135</th>\n",
       "      <td>Greece</td>\n",
       "      <td>EUR</td>\n",
       "      <td>2015</td>\n",
       "      <td>86</td>\n",
       "      <td>rel</td>\n",
       "      <td>m</td>\n",
       "      <td>65</td>\n",
       "    </tr>\n",
       "    <tr>\n",
       "      <th>424853</th>\n",
       "      <td>Greece</td>\n",
       "      <td>EUR</td>\n",
       "      <td>2015</td>\n",
       "      <td>42</td>\n",
       "      <td>rel</td>\n",
       "      <td>f</td>\n",
       "      <td>65</td>\n",
       "    </tr>\n",
       "  </tbody>\n",
       "</table>\n",
       "</div>"
      ],
      "text/plain": [
       "       country g_whoregion  year cases type sex  age_range\n",
       "48827   Greece         EUR  2015    NA   sp   m         65\n",
       "102545  Greece         EUR  2015    NA   sp   f         65\n",
       "156263  Greece         EUR  2015    NA   sn   m         65\n",
       "209981  Greece         EUR  2015    NA   sn   f         65\n",
       "263699  Greece         EUR  2015    NA   ep   m         65\n",
       "317417  Greece         EUR  2015    NA   ep   f         65\n",
       "371135  Greece         EUR  2015    86  rel   m         65\n",
       "424853  Greece         EUR  2015    42  rel   f         65"
      ]
     },
     "execution_count": 18,
     "metadata": {},
     "output_type": "execute_result"
    }
   ],
   "source": [
    "df_sub.fillna('NA')"
   ]
  },
  {
   "cell_type": "code",
   "execution_count": 19,
   "metadata": {},
   "outputs": [
    {
     "data": {
      "text/plain": [
       "48827      0\n",
       "102545     0\n",
       "156263     0\n",
       "209981     0\n",
       "263699     0\n",
       "317417     0\n",
       "371135    86\n",
       "424853    42\n",
       "Name: cases, dtype: object"
      ]
     },
     "execution_count": 19,
     "metadata": {},
     "output_type": "execute_result"
    }
   ],
   "source": [
    "df_sub['cases'].fillna('0')"
   ]
  },
  {
   "cell_type": "code",
   "execution_count": 20,
   "metadata": {},
   "outputs": [
    {
     "data": {
      "text/html": [
       "<div>\n",
       "<style>\n",
       "    .dataframe thead tr:only-child th {\n",
       "        text-align: right;\n",
       "    }\n",
       "\n",
       "    .dataframe thead th {\n",
       "        text-align: left;\n",
       "    }\n",
       "\n",
       "    .dataframe tbody tr th {\n",
       "        vertical-align: top;\n",
       "    }\n",
       "</style>\n",
       "<table border=\"1\" class=\"dataframe\">\n",
       "  <thead>\n",
       "    <tr style=\"text-align: right;\">\n",
       "      <th></th>\n",
       "      <th>country</th>\n",
       "      <th>g_whoregion</th>\n",
       "      <th>year</th>\n",
       "      <th>cases</th>\n",
       "      <th>type</th>\n",
       "      <th>sex</th>\n",
       "      <th>age_range</th>\n",
       "    </tr>\n",
       "  </thead>\n",
       "  <tbody>\n",
       "    <tr>\n",
       "      <th>371135</th>\n",
       "      <td>Greece</td>\n",
       "      <td>EUR</td>\n",
       "      <td>2015</td>\n",
       "      <td>86.0</td>\n",
       "      <td>rel</td>\n",
       "      <td>m</td>\n",
       "      <td>65</td>\n",
       "    </tr>\n",
       "    <tr>\n",
       "      <th>424853</th>\n",
       "      <td>Greece</td>\n",
       "      <td>EUR</td>\n",
       "      <td>2015</td>\n",
       "      <td>42.0</td>\n",
       "      <td>rel</td>\n",
       "      <td>f</td>\n",
       "      <td>65</td>\n",
       "    </tr>\n",
       "  </tbody>\n",
       "</table>\n",
       "</div>"
      ],
      "text/plain": [
       "       country g_whoregion  year  cases type sex  age_range\n",
       "371135  Greece         EUR  2015   86.0  rel   m         65\n",
       "424853  Greece         EUR  2015   42.0  rel   f         65"
      ]
     },
     "execution_count": 20,
     "metadata": {},
     "output_type": "execute_result"
    }
   ],
   "source": [
    "df_sub.dropna()"
   ]
  },
  {
   "cell_type": "markdown",
   "metadata": {},
   "source": [
    "### Hands-on exercises"
   ]
  },
  {
   "cell_type": "markdown",
   "metadata": {},
   "source": [
    "1. What type would you expect the variable `cases` to be?\n",
    "2. Write an expectation check to ensure that the number of missing values for `cases` is less than the total number of observations. \n",
    "3. What is the ratio of non-null values for `cases` in regions `EUR` and `AFR` (together)?"
   ]
  },
  {
   "cell_type": "markdown",
   "metadata": {},
   "source": [
    "## Reference"
   ]
  },
  {
   "cell_type": "markdown",
   "metadata": {},
   "source": [
    "* Tutorial on \"Best Testing Practices for Data Science\" by Eric J. Ma at PyCon 2017:\n",
    "https://www.youtube.com/watch?v=yACtdj1_IxE"
   ]
  }
 ],
 "metadata": {
  "kernelspec": {
   "display_name": "Python 3",
   "language": "python",
   "name": "python3"
  },
  "language_info": {
   "codemirror_mode": {
    "name": "ipython",
    "version": 3
   },
   "file_extension": ".py",
   "mimetype": "text/x-python",
   "name": "python",
   "nbconvert_exporter": "python",
   "pygments_lexer": "ipython3",
   "version": "3.6.2"
  }
 },
 "nbformat": 4,
 "nbformat_minor": 2
}
